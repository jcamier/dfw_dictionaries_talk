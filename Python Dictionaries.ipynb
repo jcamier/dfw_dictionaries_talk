{
 "cells": [
  {
   "cell_type": "markdown",
   "metadata": {},
   "source": [
    "<h1>Python <i style=\"color:blue;\">Dictionaries</i> Practical Guide and Uses</h1>\n",
    "\n",
    "## <i>by Jack Camier, Python Developer</i>"
   ]
  },
  {
   "cell_type": "code",
   "execution_count": 171,
   "metadata": {},
   "outputs": [
    {
     "data": {
      "text/html": [
       "<img src=\"py_dict.jpg\" width=\"300\"/>\n"
      ],
      "text/plain": [
       "<IPython.core.display.HTML object>"
      ]
     },
     "metadata": {},
     "output_type": "display_data"
    }
   ],
   "source": [
    "%%HTML\n",
    "<img src=\"py_dict.jpg\" width=\"300\"/>"
   ]
  },
  {
   "cell_type": "markdown",
   "metadata": {},
   "source": [
    "<hr>\n",
    "\n",
    "## As a python developer, dictionaries, also known as dicts, will be one of the most used data types you will work with in your profession\n",
    "\n",
    "## What I hope to achieve through this talk are some tricks and ways in which they can be used in software developement"
   ]
  },
  {
   "cell_type": "markdown",
   "metadata": {},
   "source": [
    "## Dictionaries are a collection of data values, used to store data values like a map. They use a key : value pair structure (similar to json) and are indexed by keys. The keys can be any immutable type such as strings, numbers and even tuples."
   ]
  },
  {
   "cell_type": "markdown",
   "metadata": {},
   "source": [
    "## String indexes example:"
   ]
  },
  {
   "cell_type": "code",
   "execution_count": 172,
   "metadata": {},
   "outputs": [
    {
     "data": {
      "text/plain": [
       "{'Dallas': 'Cowboys',\n",
       " 'New England': 'Patriots',\n",
       " 'Green Bay': 'Packers',\n",
       " 'Kansas City': 'Chiefs'}"
      ]
     },
     "execution_count": 172,
     "metadata": {},
     "output_type": "execute_result"
    }
   ],
   "source": [
    "{\"Dallas\": \"Cowboys\", \"New England\": \"Patriots\", \"Green Bay\": \"Packers\", \"Kansas City\": \"Chiefs\"}"
   ]
  },
  {
   "cell_type": "markdown",
   "metadata": {},
   "source": [
    "## Integer indexes example:"
   ]
  },
  {
   "cell_type": "code",
   "execution_count": 173,
   "metadata": {},
   "outputs": [
    {
     "data": {
      "text/plain": [
       "{1: 'This', 2: 'is', 3: 'the', 4: 'DFW', 5: 'Pythoneers', 6: 'meetup'}"
      ]
     },
     "execution_count": 173,
     "metadata": {},
     "output_type": "execute_result"
    }
   ],
   "source": [
    "{1: \"This\", 2: \"is\", 3: \"the\", 4: \"DFW\", 5: \"Pythoneers\", 6: \"meetup\"}"
   ]
  },
  {
   "cell_type": "markdown",
   "metadata": {},
   "source": [
    "## Tuple indexes example:"
   ]
  },
  {
   "cell_type": "code",
   "execution_count": 174,
   "metadata": {},
   "outputs": [
    {
     "data": {
      "text/plain": [
       "{('localhost', 5000): 'Flask',\n",
       " ('localhost', 8000): 'Django',\n",
       " ('localhost', 19000): 'Expo',\n",
       " ('localhost', 5672): 'RabbitMQ'}"
      ]
     },
     "execution_count": 174,
     "metadata": {},
     "output_type": "execute_result"
    }
   ],
   "source": [
    "{(\"localhost\", 5000): \"Flask\", (\"localhost\", 8000): \"Django\", (\"localhost\", 19000): \"Expo\", (\"localhost\", 5672): \"RabbitMQ\"}"
   ]
  },
  {
   "cell_type": "markdown",
   "metadata": {},
   "source": [
    "<hr>"
   ]
  },
  {
   "cell_type": "markdown",
   "metadata": {},
   "source": [
    "# Creating Dictionaries\n",
    "## Use the curly `{}` brackets"
   ]
  },
  {
   "cell_type": "code",
   "execution_count": 175,
   "metadata": {},
   "outputs": [],
   "source": [
    "empty_dict = {}"
   ]
  },
  {
   "cell_type": "code",
   "execution_count": 176,
   "metadata": {},
   "outputs": [
    {
     "data": {
      "text/plain": [
       "{}"
      ]
     },
     "execution_count": 176,
     "metadata": {},
     "output_type": "execute_result"
    }
   ],
   "source": [
    "empty_dict"
   ]
  },
  {
   "cell_type": "markdown",
   "metadata": {},
   "source": [
    "## Use the `dict` function"
   ]
  },
  {
   "cell_type": "code",
   "execution_count": 177,
   "metadata": {},
   "outputs": [],
   "source": [
    "another_dict = dict()"
   ]
  },
  {
   "cell_type": "code",
   "execution_count": 178,
   "metadata": {},
   "outputs": [
    {
     "data": {
      "text/plain": [
       "{}"
      ]
     },
     "execution_count": 178,
     "metadata": {},
     "output_type": "execute_result"
    }
   ],
   "source": [
    "another_dict"
   ]
  },
  {
   "cell_type": "markdown",
   "metadata": {},
   "source": [
    "<hr>"
   ]
  },
  {
   "cell_type": "markdown",
   "metadata": {},
   "source": [
    "# Assigning values to your dictionary"
   ]
  },
  {
   "cell_type": "code",
   "execution_count": 179,
   "metadata": {},
   "outputs": [],
   "source": [
    "simple_dict = {1: \"Hello\", 2: \"World!\"}"
   ]
  },
  {
   "cell_type": "code",
   "execution_count": 180,
   "metadata": {},
   "outputs": [
    {
     "data": {
      "text/plain": [
       "{1: 'Hello', 2: 'World!'}"
      ]
     },
     "execution_count": 180,
     "metadata": {},
     "output_type": "execute_result"
    }
   ],
   "source": [
    "simple_dict"
   ]
  },
  {
   "cell_type": "code",
   "execution_count": 181,
   "metadata": {},
   "outputs": [],
   "source": [
    "another_simple_dict = dict( [(1,\"DFW\"), (2,\"Pythoneers\")] )"
   ]
  },
  {
   "cell_type": "markdown",
   "metadata": {},
   "source": [
    "### More complex method, note the integer seqence within a list of tuples"
   ]
  },
  {
   "cell_type": "code",
   "execution_count": 182,
   "metadata": {},
   "outputs": [
    {
     "data": {
      "text/plain": [
       "{1: 'DFW', 2: 'Pythoneers'}"
      ]
     },
     "execution_count": 182,
     "metadata": {},
     "output_type": "execute_result"
    }
   ],
   "source": [
    "another_simple_dict"
   ]
  },
  {
   "cell_type": "markdown",
   "metadata": {},
   "source": [
    "## Changing values to an existing dictionary"
   ]
  },
  {
   "cell_type": "code",
   "execution_count": 183,
   "metadata": {},
   "outputs": [
    {
     "data": {
      "text/plain": [
       "{1: 'Hello', 2: 'Pythoneers'}"
      ]
     },
     "execution_count": 183,
     "metadata": {},
     "output_type": "execute_result"
    }
   ],
   "source": [
    "simple_dict[2] = \"Pythoneers\" # using brackets on the key\n",
    "simple_dict"
   ]
  },
  {
   "cell_type": "markdown",
   "metadata": {},
   "source": [
    "## Appending to an existing dictionary"
   ]
  },
  {
   "cell_type": "code",
   "execution_count": 184,
   "metadata": {},
   "outputs": [
    {
     "data": {
      "text/plain": [
       "{1: 'Hello', 2: 'Pythoneers', 3: 'A python value'}"
      ]
     },
     "execution_count": 184,
     "metadata": {},
     "output_type": "execute_result"
    }
   ],
   "source": [
    "x = {3: \"A python value\"}\n",
    "simple_dict.update(x)\n",
    "simple_dict"
   ]
  },
  {
   "cell_type": "markdown",
   "metadata": {},
   "source": [
    "## Note you can also use update to change an existing value by calling the appropiate key"
   ]
  },
  {
   "cell_type": "code",
   "execution_count": 185,
   "metadata": {},
   "outputs": [
    {
     "data": {
      "text/plain": [
       "{1: 'Meetup', 2: 'Pythoneers', 3: 'A python value'}"
      ]
     },
     "execution_count": 185,
     "metadata": {},
     "output_type": "execute_result"
    }
   ],
   "source": [
    "one = {1: \"Meetup\"}\n",
    "simple_dict.update(one)\n",
    "simple_dict"
   ]
  },
  {
   "cell_type": "markdown",
   "metadata": {},
   "source": [
    "# Removing values from your dictionary"
   ]
  },
  {
   "cell_type": "code",
   "execution_count": 186,
   "metadata": {},
   "outputs": [
    {
     "data": {
      "text/plain": [
       "{1: 'Meetup', 2: 'Pythoneers', 3: 'A python value'}"
      ]
     },
     "execution_count": 186,
     "metadata": {},
     "output_type": "execute_result"
    }
   ],
   "source": [
    "simple_dict"
   ]
  },
  {
   "cell_type": "code",
   "execution_count": 187,
   "metadata": {},
   "outputs": [
    {
     "data": {
      "text/plain": [
       "{1: 'Meetup', 2: 'Pythoneers'}"
      ]
     },
     "execution_count": 187,
     "metadata": {},
     "output_type": "execute_result"
    }
   ],
   "source": [
    "simple_dict.pop(3) # calling the key\n",
    "simple_dict"
   ]
  },
  {
   "cell_type": "code",
   "execution_count": 188,
   "metadata": {},
   "outputs": [
    {
     "data": {
      "text/plain": [
       "{2: 'Pythoneers'}"
      ]
     },
     "execution_count": 188,
     "metadata": {},
     "output_type": "execute_result"
    }
   ],
   "source": [
    "del simple_dict[1] # Using the built-in method del, calling the key \n",
    "simple_dict"
   ]
  },
  {
   "cell_type": "markdown",
   "metadata": {},
   "source": [
    "## Clearing a dictionary of its values"
   ]
  },
  {
   "cell_type": "code",
   "execution_count": 189,
   "metadata": {},
   "outputs": [
    {
     "data": {
      "text/plain": [
       "{}"
      ]
     },
     "execution_count": 189,
     "metadata": {},
     "output_type": "execute_result"
    }
   ],
   "source": [
    "simple_dict.clear()\n",
    "simple_dict"
   ]
  },
  {
   "cell_type": "markdown",
   "metadata": {},
   "source": [
    "## Make a copy of a dictionary by using the built-in method `dict`"
   ]
  },
  {
   "cell_type": "code",
   "execution_count": 190,
   "metadata": {},
   "outputs": [
    {
     "data": {
      "text/plain": [
       "{'x': 103, 'y': 400, 'z': 205}"
      ]
     },
     "execution_count": 190,
     "metadata": {},
     "output_type": "execute_result"
    }
   ],
   "source": [
    "first_dict = {\"x\": 103, \"y\": 400, \"z\": 205}\n",
    "first_dict\n",
    "copy_of_first = dict(first_dict)\n",
    "copy_of_first"
   ]
  },
  {
   "cell_type": "markdown",
   "metadata": {},
   "source": [
    "## Or you can use the built-in method `copy`"
   ]
  },
  {
   "cell_type": "code",
   "execution_count": 191,
   "metadata": {},
   "outputs": [
    {
     "data": {
      "text/plain": [
       "{'x': 103, 'y': 400, 'z': 205}"
      ]
     },
     "execution_count": 191,
     "metadata": {},
     "output_type": "execute_result"
    }
   ],
   "source": [
    "another_copy_of_first = first_dict.copy()\n",
    "another_copy_of_first"
   ]
  },
  {
   "cell_type": "markdown",
   "metadata": {},
   "source": [
    "# Finding keys and values in a dictionary"
   ]
  },
  {
   "cell_type": "markdown",
   "metadata": {},
   "source": [
    "## To get all the keys using the built-in method `keys`"
   ]
  },
  {
   "cell_type": "code",
   "execution_count": 192,
   "metadata": {},
   "outputs": [
    {
     "data": {
      "text/plain": [
       "dict_keys(['x', 'y', 'z'])"
      ]
     },
     "execution_count": 192,
     "metadata": {},
     "output_type": "execute_result"
    }
   ],
   "source": [
    "first_dict.keys()"
   ]
  },
  {
   "cell_type": "markdown",
   "metadata": {},
   "source": [
    "## To get all the keys using the built-in method `values`"
   ]
  },
  {
   "cell_type": "code",
   "execution_count": 193,
   "metadata": {},
   "outputs": [
    {
     "data": {
      "text/plain": [
       "dict_values([103, 400, 205])"
      ]
     },
     "execution_count": 193,
     "metadata": {},
     "output_type": "execute_result"
    }
   ],
   "source": [
    "first_dict.values()"
   ]
  },
  {
   "cell_type": "markdown",
   "metadata": {},
   "source": [
    "## To get all the key, value pairs you can use `items`\n",
    "### * Returns a list of tuples for each key value pair"
   ]
  },
  {
   "cell_type": "code",
   "execution_count": 194,
   "metadata": {},
   "outputs": [
    {
     "data": {
      "text/plain": [
       "dict_items([('x', 103), ('y', 400), ('z', 205)])"
      ]
     },
     "execution_count": 194,
     "metadata": {},
     "output_type": "execute_result"
    }
   ],
   "source": [
    "first_dict.items()"
   ]
  },
  {
   "cell_type": "markdown",
   "metadata": {},
   "source": [
    "## Using the built-in method `get`\n",
    "### * The second arguement is the default value to assign if a value is not found. If not assigned, it defaults to `None`"
   ]
  },
  {
   "cell_type": "code",
   "execution_count": 195,
   "metadata": {},
   "outputs": [
    {
     "data": {
      "text/plain": [
       "103"
      ]
     },
     "execution_count": 195,
     "metadata": {},
     "output_type": "execute_result"
    }
   ],
   "source": [
    "first_dict.get(\"x\", \" \")"
   ]
  },
  {
   "cell_type": "code",
   "execution_count": 196,
   "metadata": {},
   "outputs": [
    {
     "name": "stdout",
     "output_type": "stream",
     "text": [
      "None\n"
     ]
    }
   ],
   "source": [
    "first_dict.get(\"zz\")\n",
    "print(first_dict.get(\"zz\"))"
   ]
  },
  {
   "cell_type": "markdown",
   "metadata": {},
   "source": [
    "## Another way to see if a key is in a dictionary"
   ]
  },
  {
   "cell_type": "code",
   "execution_count": 197,
   "metadata": {},
   "outputs": [
    {
     "data": {
      "text/plain": [
       "True"
      ]
     },
     "execution_count": 197,
     "metadata": {},
     "output_type": "execute_result"
    }
   ],
   "source": [
    "\"x\" in first_dict"
   ]
  },
  {
   "cell_type": "code",
   "execution_count": 198,
   "metadata": {},
   "outputs": [
    {
     "data": {
      "text/plain": [
       "False"
      ]
     },
     "execution_count": 198,
     "metadata": {},
     "output_type": "execute_result"
    }
   ],
   "source": [
    "\"zz\" in first_dict"
   ]
  },
  {
   "cell_type": "markdown",
   "metadata": {},
   "source": [
    "## ...To see if a value is in a dictionary"
   ]
  },
  {
   "cell_type": "code",
   "execution_count": 199,
   "metadata": {},
   "outputs": [
    {
     "data": {
      "text/plain": [
       "True"
      ]
     },
     "execution_count": 199,
     "metadata": {},
     "output_type": "execute_result"
    }
   ],
   "source": [
    "103 in first_dict.values()"
   ]
  },
  {
   "cell_type": "markdown",
   "metadata": {},
   "source": [
    "## Common practices used to iterate through a dictionary"
   ]
  },
  {
   "cell_type": "code",
   "execution_count": 200,
   "metadata": {},
   "outputs": [],
   "source": [
    "local_ips = {(\"localhost\", 5000): \"Flask\", (\"localhost\", 8000): \"Django\", (\"localhost\", 19000): \"Expo\", (\"localhost\", 5672): \"RabbitMQ\"}"
   ]
  },
  {
   "cell_type": "code",
   "execution_count": 201,
   "metadata": {},
   "outputs": [
    {
     "data": {
      "text/plain": [
       "{('localhost', 5000): 'Flask',\n",
       " ('localhost', 8000): 'Django',\n",
       " ('localhost', 19000): 'Expo',\n",
       " ('localhost', 5672): 'RabbitMQ'}"
      ]
     },
     "execution_count": 201,
     "metadata": {},
     "output_type": "execute_result"
    }
   ],
   "source": [
    "local_ips"
   ]
  },
  {
   "cell_type": "code",
   "execution_count": 202,
   "metadata": {},
   "outputs": [
    {
     "name": "stdout",
     "output_type": "stream",
     "text": [
      "('localhost', 5000)\n",
      "('localhost', 8000)\n",
      "('localhost', 19000)\n",
      "('localhost', 5672)\n"
     ]
    }
   ],
   "source": [
    "for k in local_ips.keys():\n",
    "    print(k)"
   ]
  },
  {
   "cell_type": "code",
   "execution_count": 203,
   "metadata": {},
   "outputs": [
    {
     "name": "stdout",
     "output_type": "stream",
     "text": [
      "Flask\n",
      "Django\n",
      "Expo\n",
      "RabbitMQ\n"
     ]
    }
   ],
   "source": [
    "for v in local_ips.values():\n",
    "    print(v)"
   ]
  },
  {
   "cell_type": "code",
   "execution_count": 204,
   "metadata": {},
   "outputs": [
    {
     "name": "stdout",
     "output_type": "stream",
     "text": [
      "Flask\n",
      "Django\n",
      "Expo\n",
      "RabbitMQ\n"
     ]
    }
   ],
   "source": [
    "# Here is another practice to find the values using the .get() built in method\n",
    "for i in local_ips:\n",
    "    print(local_ips.get(i))"
   ]
  },
  {
   "cell_type": "code",
   "execution_count": 205,
   "metadata": {},
   "outputs": [
    {
     "name": "stdout",
     "output_type": "stream",
     "text": [
      "('localhost', 5000) Flask\n",
      "('localhost', 8000) Django\n",
      "('localhost', 19000) Expo\n",
      "('localhost', 5672) RabbitMQ\n"
     ]
    }
   ],
   "source": [
    "for k, v in local_ips.items():\n",
    "    print(k, v)"
   ]
  },
  {
   "cell_type": "markdown",
   "metadata": {},
   "source": [
    "## You can use the `len` method to see how many key, values are in a dictionary"
   ]
  },
  {
   "cell_type": "code",
   "execution_count": 206,
   "metadata": {},
   "outputs": [
    {
     "data": {
      "text/plain": [
       "4"
      ]
     },
     "execution_count": 206,
     "metadata": {},
     "output_type": "execute_result"
    }
   ],
   "source": [
    "len(local_ips)"
   ]
  },
  {
   "cell_type": "markdown",
   "metadata": {},
   "source": [
    "# Now with all these simple methods, we can see how they are used in the real world\n",
    "<hr>"
   ]
  },
  {
   "cell_type": "code",
   "execution_count": 207,
   "metadata": {},
   "outputs": [],
   "source": [
    "import json"
   ]
  },
  {
   "cell_type": "markdown",
   "metadata": {},
   "source": [
    "## Creating json objects from dictionaries:"
   ]
  },
  {
   "cell_type": "code",
   "execution_count": 208,
   "metadata": {},
   "outputs": [
    {
     "data": {
      "text/plain": [
       "dict"
      ]
     },
     "execution_count": 208,
     "metadata": {},
     "output_type": "execute_result"
    }
   ],
   "source": [
    "example_dict = {\"order\": 1234, \"first_name\": \"Bill\", \"last_name\": \"Smith\", \"item\": \"widget\"}\n",
    "type(example_dict)"
   ]
  },
  {
   "cell_type": "code",
   "execution_count": 209,
   "metadata": {},
   "outputs": [
    {
     "data": {
      "text/plain": [
       "'{\"order\": 1234, \"first_name\": \"Bill\", \"last_name\": \"Smith\", \"item\": \"widget\"}'"
      ]
     },
     "execution_count": 209,
     "metadata": {},
     "output_type": "execute_result"
    }
   ],
   "source": [
    "json_dict = json.dumps(example_dict)\n",
    "json_dict"
   ]
  },
  {
   "cell_type": "code",
   "execution_count": 210,
   "metadata": {},
   "outputs": [
    {
     "data": {
      "text/plain": [
       "str"
      ]
     },
     "execution_count": 210,
     "metadata": {},
     "output_type": "execute_result"
    }
   ],
   "source": [
    "type(json_dict)"
   ]
  },
  {
   "cell_type": "markdown",
   "metadata": {},
   "source": [
    "## Converting json back to a python dictionary"
   ]
  },
  {
   "cell_type": "code",
   "execution_count": 211,
   "metadata": {},
   "outputs": [
    {
     "data": {
      "text/plain": [
       "{'order': 1234, 'first_name': 'Bill', 'last_name': 'Smith', 'item': 'widget'}"
      ]
     },
     "execution_count": 211,
     "metadata": {},
     "output_type": "execute_result"
    }
   ],
   "source": [
    "dict_from_json = json.loads(json_dict)\n",
    "dict_from_json"
   ]
  },
  {
   "cell_type": "code",
   "execution_count": 212,
   "metadata": {},
   "outputs": [
    {
     "data": {
      "text/plain": [
       "dict"
      ]
     },
     "execution_count": 212,
     "metadata": {},
     "output_type": "execute_result"
    }
   ],
   "source": [
    "type(dict_from_json)"
   ]
  },
  {
   "cell_type": "markdown",
   "metadata": {},
   "source": [
    "## Converting a config file to a dictionary"
   ]
  },
  {
   "cell_type": "code",
   "execution_count": 213,
   "metadata": {},
   "outputs": [
    {
     "name": "stdout",
     "output_type": "stream",
     "text": [
      "API_KEY=3981a3d6-ea6f-4b62-b628-27aa6e38d02c\r\n",
      "VERSION=1.0\r\n",
      "BASE_URL=test-api/v1/"
     ]
    }
   ],
   "source": [
    "!cat config # This works in Mac and Linux, for Windows I believe you would do !type config, the \"!\" is a jupyter magic method"
   ]
  },
  {
   "cell_type": "code",
   "execution_count": 214,
   "metadata": {},
   "outputs": [
    {
     "data": {
      "text/plain": [
       "{'API_KEY': '3981a3d6-ea6f-4b62-b628-27aa6e38d02c',\n",
       " 'VERSION': '1.0',\n",
       " 'BASE_URL': 'test-api/v1/'}"
      ]
     },
     "execution_count": 214,
     "metadata": {},
     "output_type": "execute_result"
    }
   ],
   "source": [
    "config_dict = {}\n",
    "with open('config', 'r', encoding='UTF-8') as config_file:\n",
    "    for line in config_file:\n",
    "        k, v = line.split(\"=\")\n",
    "        v = v.replace(\"\\n\", \"\") # get rid of new line \n",
    "        config_dict[k] = v\n",
    "config_dict"
   ]
  },
  {
   "cell_type": "markdown",
   "metadata": {},
   "source": [
    "## Setting values for your environment"
   ]
  },
  {
   "cell_type": "code",
   "execution_count": 215,
   "metadata": {},
   "outputs": [],
   "source": [
    "import os\n",
    "os.environ[\"TEST_KEY\"] = \"test_python_env\""
   ]
  },
  {
   "cell_type": "markdown",
   "metadata": {},
   "source": [
    "## Getting values of your environment"
   ]
  },
  {
   "cell_type": "code",
   "execution_count": 216,
   "metadata": {},
   "outputs": [
    {
     "data": {
      "text/plain": [
       "'test_python_env'"
      ]
     },
     "execution_count": 216,
     "metadata": {},
     "output_type": "execute_result"
    }
   ],
   "source": [
    "import os\n",
    "test_key = os.environ[\"TEST_KEY\"] \n",
    "test_key"
   ]
  },
  {
   "cell_type": "markdown",
   "metadata": {},
   "source": [
    "## You can also use getenv() method"
   ]
  },
  {
   "cell_type": "code",
   "execution_count": 217,
   "metadata": {},
   "outputs": [
    {
     "data": {
      "text/plain": [
       "'test_python_env'"
      ]
     },
     "execution_count": 217,
     "metadata": {},
     "output_type": "execute_result"
    }
   ],
   "source": [
    "test_key_g = os.getenv(\"TEST_KEY\", \"No value found\")\n",
    "test_key_g"
   ]
  },
  {
   "cell_type": "markdown",
   "metadata": {},
   "source": [
    "## Creating a dict comprehension from a list"
   ]
  },
  {
   "cell_type": "code",
   "execution_count": 218,
   "metadata": {},
   "outputs": [
    {
     "data": {
      "text/plain": [
       "{0: 'a', 1: 'b', 2: 'c', 3: 'd', 4: 'x', 5: 'y', 6: 'z'}"
      ]
     },
     "execution_count": 218,
     "metadata": {},
     "output_type": "execute_result"
    }
   ],
   "source": [
    "value_list = [\"a\", \"b\", \"c\", \"d\", \"x\", \"y\", \"z\"]\n",
    "dict_comp = {k: v for k, v in enumerate(value_list)} # enumerate returns a tuple, indexed with an integer\n",
    "dict_comp"
   ]
  },
  {
   "cell_type": "markdown",
   "metadata": {},
   "source": [
    "## Creating a dict comprehension from two lists"
   ]
  },
  {
   "cell_type": "code",
   "execution_count": 219,
   "metadata": {},
   "outputs": [
    {
     "data": {
      "text/plain": [
       "{'a': 11, 'b': 12, 'c': 13, 'd': 14, 'x': 15, 'y': 16, 'z': 17}"
      ]
     },
     "execution_count": 219,
     "metadata": {},
     "output_type": "execute_result"
    }
   ],
   "source": [
    "key_list = [\"a\", \"b\", \"c\", \"d\", \"x\", \"y\", \"z\"]\n",
    "value_list = [11, 12, 13, 14, 15, 16, 17]\n",
    "dict_comp_2 = {k: v for k, v in zip(key_list, value_list)} # zip returns an iterator of tuples\n",
    "dict_comp_2"
   ]
  },
  {
   "cell_type": "markdown",
   "metadata": {},
   "source": [
    "## Creating a dict comprehension from a tuple list"
   ]
  },
  {
   "cell_type": "code",
   "execution_count": 220,
   "metadata": {},
   "outputs": [
    {
     "data": {
      "text/plain": [
       "{'10.1.1.10': 3000, '10.1.1.20': 8000, '10.1.1.30': 19000, '10.1.1.40': 80}"
      ]
     },
     "execution_count": 220,
     "metadata": {},
     "output_type": "execute_result"
    }
   ],
   "source": [
    "ip_port_tuples = [(\"10.1.1.10\", 3000), (\"10.1.1.20\", 8000), (\"10.1.1.30\", 19000), (\"10.1.1.40\", 80)]\n",
    "dict_comp_tuple = {k: v for k, v in ip_port_tuples}\n",
    "dict_comp_tuple"
   ]
  },
  {
   "cell_type": "markdown",
   "metadata": {},
   "source": [
    "## Get a nested value in a complex dictionary"
   ]
  },
  {
   "cell_type": "code",
   "execution_count": 221,
   "metadata": {},
   "outputs": [
    {
     "data": {
      "text/plain": [
       "{'parent': {'child1': 10,\n",
       "  'child2': {'item_list': [{'subchild1': 'hello', 'subchild2': 'world'},\n",
       "    20,\n",
       "    30,\n",
       "    {'another_key': 'another_value'}]}}}"
      ]
     },
     "execution_count": 221,
     "metadata": {},
     "output_type": "execute_result"
    }
   ],
   "source": [
    "nested_dict = {\"parent\": {\"child1\": 10, \"child2\": {\"item_list\": [{\"subchild1\": \"hello\", \"subchild2\": \"world\"}, 20, 30, {\"another_key\": \"another_value\"}]}}}\n",
    "nested_dict"
   ]
  },
  {
   "cell_type": "code",
   "execution_count": 222,
   "metadata": {},
   "outputs": [
    {
     "data": {
      "text/plain": [
       "'hello'"
      ]
     },
     "execution_count": 222,
     "metadata": {},
     "output_type": "execute_result"
    }
   ],
   "source": [
    "get_hello = nested_dict.get(\"parent\").get(\"child2\").get(\"item_list\")[0].get(\"subchild1\")\n",
    "get_hello"
   ]
  },
  {
   "cell_type": "markdown",
   "metadata": {},
   "source": [
    "# Adding headers to a http request"
   ]
  },
  {
   "cell_type": "code",
   "execution_count": 223,
   "metadata": {},
   "outputs": [
    {
     "name": "stdout",
     "output_type": "stream",
     "text": [
      "{\"coord\":{\"lon\":-96.7,\"lat\":33.02},\"weather\":[{\"id\":804,\"main\":\"Clouds\",\"description\":\"overcast clouds\",\"icon\":\"04n\"}],\"base\":\"stations\",\"main\":{\"temp\":289.02,\"feels_like\":286.4,\"temp_min\":286.48,\"temp_max\":291.48,\"pressure\":1009,\"humidity\":55},\"visibility\":16093,\"wind\":{\"speed\":2.69,\"deg\":320},\"clouds\":{\"all\":90},\"dt\":1583207615,\"sys\":{\"type\":1,\"id\":3226,\"country\":\"US\",\"sunrise\":1583153586,\"sunset\":1583195093},\"timezone\":-21600,\"id\":4719457,\"name\":\"Plano\",\"cod\":200}\n"
     ]
    }
   ],
   "source": [
    "import requests\n",
    "\n",
    "owp_key = os.getenv(\"OWP_KEY\", \"No value found\") # This is a local environment variable I have set, you will not have this\n",
    "city_name = \"Plano\"\n",
    "state = \"Texas\"\n",
    "url = f\"http://api.openweathermap.org/data/2.5/weather?q={city_name},{state}&appid={owp_key}\"\n",
    "\n",
    "headers = {\"Content-Type\": \"application/json\"}\n",
    "\n",
    "response = requests.request(\"GET\", url, headers=headers)\n",
    "\n",
    "print(response.text)"
   ]
  },
  {
   "cell_type": "markdown",
   "metadata": {},
   "source": [
    "## Get a value from an api request"
   ]
  },
  {
   "cell_type": "code",
   "execution_count": 224,
   "metadata": {},
   "outputs": [
    {
     "data": {
      "text/plain": [
       "0.902237"
      ]
     },
     "execution_count": 224,
     "metadata": {},
     "output_type": "execute_result"
    }
   ],
   "source": [
    "url = \"https://api.exchangerate-api.com/v4/latest/USD\"\n",
    "\n",
    "response = requests.request(\"GET\", url)\n",
    "\n",
    "resp_body = response.text\n",
    "\n",
    "# Convert json response to dict\n",
    "\n",
    "resp_dict = json.loads(resp_body)\n",
    "\n",
    "# Get nested fx rate\n",
    "\n",
    "EUR_fx_rate = resp_dict.get(\"rates\").get(\"EUR\")\n",
    "EUR_fx_rate"
   ]
  },
  {
   "cell_type": "markdown",
   "metadata": {},
   "source": [
    "## Mapping to a dictionary, normally to eventually write to a database"
   ]
  },
  {
   "cell_type": "code",
   "execution_count": 225,
   "metadata": {},
   "outputs": [
    {
     "data": {
      "text/plain": [
       "'{\"item_desc\": \"widget\", \"item\": \"sku2345ta5\", \"order\": 1234, \"address\": \"123 Somewhere St\", \"name\": \"Sam\"}'"
      ]
     },
     "execution_count": 225,
     "metadata": {},
     "output_type": "execute_result"
    }
   ],
   "source": [
    "json_payload = json.dumps({\"item_desc\": \"widget\", \"item\": \"sku2345ta5\", \"order\": 1234, \"address\": \"123 Somewhere St\", \"name\": \"Sam\"})\n",
    "json_payload"
   ]
  },
  {
   "cell_type": "code",
   "execution_count": 226,
   "metadata": {},
   "outputs": [
    {
     "data": {
      "text/plain": [
       "{'item_desc': 'widget',\n",
       " 'item': 'sku2345ta5',\n",
       " 'order': 1234,\n",
       " 'address': '123 Somewhere St',\n",
       " 'name': 'Sam'}"
      ]
     },
     "execution_count": 226,
     "metadata": {},
     "output_type": "execute_result"
    }
   ],
   "source": [
    "resp = json.loads(json_payload)\n",
    "resp"
   ]
  },
  {
   "cell_type": "code",
   "execution_count": 227,
   "metadata": {},
   "outputs": [
    {
     "data": {
      "text/plain": [
       "{'id': 'd0761f8f-faf2-43ef-8c84-bc414d02f5ec',\n",
       " 'item': 'sku2345ta5',\n",
       " 'desc': 'widget',\n",
       " 'full_name': 'Sam',\n",
       " 'order_number': 1234,\n",
       " 'address': '123 Somewhere St'}"
      ]
     },
     "execution_count": 227,
     "metadata": {},
     "output_type": "execute_result"
    }
   ],
   "source": [
    "import uuid\n",
    "\n",
    "sql_values = {\"id\": str(uuid.uuid4()),\n",
    "\"item\": resp.get(\"item\"),\n",
    "\"desc\": resp.get(\"item_desc\"), \n",
    "\"full_name\": resp.get(\"name\"),\n",
    "\"order_number\": resp.get(\"order\"),\n",
    "\"address\": resp.get(\"address\")}\n",
    "\n",
    "sql_values"
   ]
  },
  {
   "cell_type": "code",
   "execution_count": 228,
   "metadata": {},
   "outputs": [
    {
     "data": {
      "text/plain": [
       "<sqlite3.Cursor at 0x105dd4180>"
      ]
     },
     "execution_count": 228,
     "metadata": {},
     "output_type": "execute_result"
    }
   ],
   "source": [
    "import sqlite3\n",
    "\n",
    "conn = sqlite3.connect('example.db')\n",
    "c = conn.cursor()\n",
    "\n",
    "# Create table\n",
    "c.execute('''CREATE TABLE items (id text, desc text, full_name text, order_number integer, address text)''')\n",
    "\n",
    "# c.execute('''DROP TABLE items''')"
   ]
  },
  {
   "cell_type": "code",
   "execution_count": 229,
   "metadata": {},
   "outputs": [],
   "source": [
    "# Insert a row of data\n",
    "c.execute('INSERT INTO items VALUES (:id, :desc, :full_name, :order_number, :address)', sql_values)\n",
    "conn.commit()"
   ]
  },
  {
   "cell_type": "code",
   "execution_count": 230,
   "metadata": {},
   "outputs": [
    {
     "name": "stdout",
     "output_type": "stream",
     "text": [
      "('d0761f8f-faf2-43ef-8c84-bc414d02f5ec', 'widget', 'Sam', 1234, '123 Somewhere St')\n"
     ]
    }
   ],
   "source": [
    "sql = c.execute('''SELECT * from items''')\n",
    "for row in sql:\n",
    "    print(row)"
   ]
  },
  {
   "cell_type": "code",
   "execution_count": 231,
   "metadata": {},
   "outputs": [
    {
     "data": {
      "text/plain": [
       "<sqlite3.Cursor at 0x105dd4180>"
      ]
     },
     "execution_count": 231,
     "metadata": {},
     "output_type": "execute_result"
    }
   ],
   "source": [
    "c.execute('''DROP TABLE items''')"
   ]
  },
  {
   "cell_type": "markdown",
   "metadata": {},
   "source": [
    "# Thank you!"
   ]
  }
 ],
 "metadata": {
  "kernelspec": {
   "display_name": "Python 3",
   "language": "python",
   "name": "python3"
  },
  "language_info": {
   "codemirror_mode": {
    "name": "ipython",
    "version": 3
   },
   "file_extension": ".py",
   "mimetype": "text/x-python",
   "name": "python",
   "nbconvert_exporter": "python",
   "pygments_lexer": "ipython3",
   "version": "3.7.4"
  }
 },
 "nbformat": 4,
 "nbformat_minor": 2
}
